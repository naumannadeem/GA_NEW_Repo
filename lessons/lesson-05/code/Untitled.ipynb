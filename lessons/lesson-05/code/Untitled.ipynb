{
 "cells": [
  {
   "cell_type": "code",
   "execution_count": 1,
   "metadata": {},
   "outputs": [
    {
     "name": "stderr",
     "output_type": "stream",
     "text": [
      "/Users/Nauman/anaconda/lib/python2.7/site-packages/ipykernel_launcher.py:2: ParserWarning: Falling back to the 'python' engine because the 'c' engine does not support regex separators (separators > 1 char and different from '\\s+' are interpreted as regex); you can avoid this warning by specifying engine='python'.\n",
      "  \n"
     ]
    }
   ],
   "source": [
    "import pandas as pd\n",
    "df = pd.read_csv('datasets/adult.data', sep=\", \")"
   ]
  },
  {
   "cell_type": "code",
   "execution_count": 31,
   "metadata": {},
   "outputs": [
    {
     "data": {
      "text/plain": [
       "<=50K     24720\n",
       "<=50K.    12435\n",
       ">50K       7841\n",
       ">50K.      3846\n",
       "Name: income, dtype: int64"
      ]
     },
     "execution_count": 31,
     "metadata": {},
     "output_type": "execute_result"
    }
   ],
   "source": [
    "df['income'].value_counts()"
   ]
  },
  {
   "cell_type": "code",
   "execution_count": 33,
   "metadata": {},
   "outputs": [
    {
     "name": "stdout",
     "output_type": "stream",
     "text": [
      "   age         workclass  fnlwgt  education  education-num  \\\n",
      "0   39         State-gov   77516  Bachelors             13   \n",
      "1   50  Self-emp-not-inc   83311  Bachelors             13   \n",
      "2   38           Private  215646    HS-grad              9   \n",
      "3   53           Private  234721       11th              7   \n",
      "4   28           Private  338409  Bachelors             13   \n",
      "\n",
      "       marital-status         occupation   relationship   race     sex  \\\n",
      "0       Never-married       Adm-clerical  Not-in-family  White    Male   \n",
      "1  Married-civ-spouse    Exec-managerial        Husband  White    Male   \n",
      "2            Divorced  Handlers-cleaners  Not-in-family  White    Male   \n",
      "3  Married-civ-spouse  Handlers-cleaners        Husband  Black    Male   \n",
      "4  Married-civ-spouse     Prof-specialty           Wife  Black  Female   \n",
      "\n",
      "   capital-gain  capital-loss  hours-per-week native-country income  \\\n",
      "0          2174             0              40  United-States  <=50K   \n",
      "1             0             0              13  United-States  <=50K   \n",
      "2             0             0              40  United-States  <=50K   \n",
      "3             0             0              40  United-States  <=50K   \n",
      "4             0             0              40           Cuba  <=50K   \n",
      "\n",
      "   income_new  \n",
      "0           0  \n",
      "1           0  \n",
      "2           0  \n",
      "3           0  \n",
      "4           0  \n"
     ]
    }
   ],
   "source": [
    "equiv = {\"<=50K\":0, \"<=50K.\":0, \">50K\":1, \">50K.\":1}\n",
    "df[\"income_new\"] = df[\"income\"].map(equiv)\n",
    "print df.head()"
   ]
  },
  {
   "cell_type": "code",
   "execution_count": 35,
   "metadata": {},
   "outputs": [
    {
     "name": "stdout",
     "output_type": "stream",
     "text": [
      "       age         workclass  fnlwgt     education  education-num  \\\n",
      "0       39         State-gov   77516     Bachelors             13   \n",
      "1       50  Self-emp-not-inc   83311     Bachelors             13   \n",
      "2       38           Private  215646       HS-grad              9   \n",
      "3       53           Private  234721          11th              7   \n",
      "4       28           Private  338409     Bachelors             13   \n",
      "5       37           Private  284582       Masters             14   \n",
      "6       49           Private  160187           9th              5   \n",
      "7       52  Self-emp-not-inc  209642       HS-grad              9   \n",
      "8       31           Private   45781       Masters             14   \n",
      "9       42           Private  159449     Bachelors             13   \n",
      "10      37           Private  280464  Some-college             10   \n",
      "11      30         State-gov  141297     Bachelors             13   \n",
      "12      23           Private  122272     Bachelors             13   \n",
      "13      32           Private  205019    Assoc-acdm             12   \n",
      "14      40           Private  121772     Assoc-voc             11   \n",
      "15      34           Private  245487       7th-8th              4   \n",
      "16      25  Self-emp-not-inc  176756       HS-grad              9   \n",
      "17      32           Private  186824       HS-grad              9   \n",
      "18      38           Private   28887          11th              7   \n",
      "19      43  Self-emp-not-inc  292175       Masters             14   \n",
      "20      40           Private  193524     Doctorate             16   \n",
      "21      54           Private  302146       HS-grad              9   \n",
      "22      35       Federal-gov   76845           9th              5   \n",
      "23      43           Private  117037          11th              7   \n",
      "24      59           Private  109015       HS-grad              9   \n",
      "25      56         Local-gov  216851     Bachelors             13   \n",
      "26      19           Private  168294       HS-grad              9   \n",
      "27      54                 ?  180211  Some-college             10   \n",
      "28      39           Private  367260       HS-grad              9   \n",
      "29      49           Private  193366       HS-grad              9   \n",
      "...    ...               ...     ...           ...            ...   \n",
      "48812   81                 ?   26711     Assoc-voc             11   \n",
      "48813   60           Private  117909     Assoc-voc             11   \n",
      "48814   39           Private  229647     Bachelors             13   \n",
      "48815   38           Private  149347       Masters             14   \n",
      "48816   43         Local-gov   23157       Masters             14   \n",
      "48817   23           Private   93977       HS-grad              9   \n",
      "48818   73      Self-emp-inc  159691  Some-college             10   \n",
      "48819   35           Private  176967  Some-college             10   \n",
      "48820   66           Private  344436       HS-grad              9   \n",
      "48821   27           Private  430340  Some-college             10   \n",
      "48822   40           Private  202168   Prof-school             15   \n",
      "48823   51           Private   82720       HS-grad              9   \n",
      "48824   22           Private  269623  Some-college             10   \n",
      "48825   64  Self-emp-not-inc  136405       HS-grad              9   \n",
      "48826   50         Local-gov  139347       Masters             14   \n",
      "48827   55           Private  224655       HS-grad              9   \n",
      "48828   38           Private  247547     Assoc-voc             11   \n",
      "48829   58           Private  292710    Assoc-acdm             12   \n",
      "48830   32           Private  173449       HS-grad              9   \n",
      "48831   48           Private  285570       HS-grad              9   \n",
      "48832   61           Private   89686       HS-grad              9   \n",
      "48833   31           Private  440129       HS-grad              9   \n",
      "48834   25           Private  350977       HS-grad              9   \n",
      "48835   48         Local-gov  349230       Masters             14   \n",
      "48836   33           Private  245211     Bachelors             13   \n",
      "48837   39           Private  215419     Bachelors             13   \n",
      "48838   64                 ?  321403       HS-grad              9   \n",
      "48839   38           Private  374983     Bachelors             13   \n",
      "48840   44           Private   83891     Bachelors             13   \n",
      "48841   35      Self-emp-inc  182148     Bachelors             13   \n",
      "\n",
      "              marital-status         occupation    relationship  \\\n",
      "0              Never-married       Adm-clerical   Not-in-family   \n",
      "1         Married-civ-spouse    Exec-managerial         Husband   \n",
      "2                   Divorced  Handlers-cleaners   Not-in-family   \n",
      "3         Married-civ-spouse  Handlers-cleaners         Husband   \n",
      "4         Married-civ-spouse     Prof-specialty            Wife   \n",
      "5         Married-civ-spouse    Exec-managerial            Wife   \n",
      "6      Married-spouse-absent      Other-service   Not-in-family   \n",
      "7         Married-civ-spouse    Exec-managerial         Husband   \n",
      "8              Never-married     Prof-specialty   Not-in-family   \n",
      "9         Married-civ-spouse    Exec-managerial         Husband   \n",
      "10        Married-civ-spouse    Exec-managerial         Husband   \n",
      "11        Married-civ-spouse     Prof-specialty         Husband   \n",
      "12             Never-married       Adm-clerical       Own-child   \n",
      "13             Never-married              Sales   Not-in-family   \n",
      "14        Married-civ-spouse       Craft-repair         Husband   \n",
      "15        Married-civ-spouse   Transport-moving         Husband   \n",
      "16             Never-married    Farming-fishing       Own-child   \n",
      "17             Never-married  Machine-op-inspct       Unmarried   \n",
      "18        Married-civ-spouse              Sales         Husband   \n",
      "19                  Divorced    Exec-managerial       Unmarried   \n",
      "20        Married-civ-spouse     Prof-specialty         Husband   \n",
      "21                 Separated      Other-service       Unmarried   \n",
      "22        Married-civ-spouse    Farming-fishing         Husband   \n",
      "23        Married-civ-spouse   Transport-moving         Husband   \n",
      "24                  Divorced       Tech-support       Unmarried   \n",
      "25        Married-civ-spouse       Tech-support         Husband   \n",
      "26             Never-married       Craft-repair       Own-child   \n",
      "27        Married-civ-spouse                  ?         Husband   \n",
      "28                  Divorced    Exec-managerial   Not-in-family   \n",
      "29        Married-civ-spouse       Craft-repair         Husband   \n",
      "...                      ...                ...             ...   \n",
      "48812     Married-civ-spouse                  ?         Husband   \n",
      "48813     Married-civ-spouse     Prof-specialty         Husband   \n",
      "48814          Never-married       Tech-support   Not-in-family   \n",
      "48815     Married-civ-spouse     Prof-specialty         Husband   \n",
      "48816     Married-civ-spouse    Exec-managerial         Husband   \n",
      "48817          Never-married  Machine-op-inspct       Own-child   \n",
      "48818               Divorced    Exec-managerial   Not-in-family   \n",
      "48819     Married-civ-spouse    Protective-serv         Husband   \n",
      "48820                Widowed              Sales  Other-relative   \n",
      "48821          Never-married              Sales   Not-in-family   \n",
      "48822     Married-civ-spouse     Prof-specialty         Husband   \n",
      "48823     Married-civ-spouse       Craft-repair         Husband   \n",
      "48824          Never-married       Craft-repair       Own-child   \n",
      "48825                Widowed    Farming-fishing   Not-in-family   \n",
      "48826     Married-civ-spouse     Prof-specialty            Wife   \n",
      "48827              Separated    Priv-house-serv   Not-in-family   \n",
      "48828          Never-married       Adm-clerical       Unmarried   \n",
      "48829               Divorced     Prof-specialty   Not-in-family   \n",
      "48830     Married-civ-spouse  Handlers-cleaners         Husband   \n",
      "48831     Married-civ-spouse       Adm-clerical         Husband   \n",
      "48832     Married-civ-spouse              Sales         Husband   \n",
      "48833     Married-civ-spouse       Craft-repair         Husband   \n",
      "48834          Never-married      Other-service       Own-child   \n",
      "48835               Divorced      Other-service   Not-in-family   \n",
      "48836          Never-married     Prof-specialty       Own-child   \n",
      "48837               Divorced     Prof-specialty   Not-in-family   \n",
      "48838                Widowed                  ?  Other-relative   \n",
      "48839     Married-civ-spouse     Prof-specialty         Husband   \n",
      "48840               Divorced       Adm-clerical       Own-child   \n",
      "48841     Married-civ-spouse    Exec-managerial         Husband   \n",
      "\n",
      "                     race     sex  capital-gain  capital-loss  hours-per-week  \\\n",
      "0                   White    Male          2174             0              40   \n",
      "1                   White    Male             0             0              13   \n",
      "2                   White    Male             0             0              40   \n",
      "3                   Black    Male             0             0              40   \n",
      "4                   Black  Female             0             0              40   \n",
      "5                   White  Female             0             0              40   \n",
      "6                   Black  Female             0             0              16   \n",
      "7                   White    Male             0             0              45   \n",
      "8                   White  Female         14084             0              50   \n",
      "9                   White    Male          5178             0              40   \n",
      "10                  Black    Male             0             0              80   \n",
      "11     Asian-Pac-Islander    Male             0             0              40   \n",
      "12                  White  Female             0             0              30   \n",
      "13                  Black    Male             0             0              50   \n",
      "14     Asian-Pac-Islander    Male             0             0              40   \n",
      "15     Amer-Indian-Eskimo    Male             0             0              45   \n",
      "16                  White    Male             0             0              35   \n",
      "17                  White    Male             0             0              40   \n",
      "18                  White    Male             0             0              50   \n",
      "19                  White  Female             0             0              45   \n",
      "20                  White    Male             0             0              60   \n",
      "21                  Black  Female             0             0              20   \n",
      "22                  Black    Male             0             0              40   \n",
      "23                  White    Male             0          2042              40   \n",
      "24                  White  Female             0             0              40   \n",
      "25                  White    Male             0             0              40   \n",
      "26                  White    Male             0             0              40   \n",
      "27     Asian-Pac-Islander    Male             0             0              60   \n",
      "28                  White    Male             0             0              80   \n",
      "29                  White    Male             0             0              40   \n",
      "...                   ...     ...           ...           ...             ...   \n",
      "48812               White    Male          2936             0              20   \n",
      "48813               White    Male          7688             0              40   \n",
      "48814               White  Female             0          1669              40   \n",
      "48815               White    Male             0             0              50   \n",
      "48816               White    Male             0          1902              50   \n",
      "48817               White    Male             0             0              40   \n",
      "48818               White  Female             0             0              40   \n",
      "48819               White    Male             0             0              40   \n",
      "48820               White  Female             0             0               8   \n",
      "48821               White  Female             0             0              45   \n",
      "48822               White    Male         15024             0              55   \n",
      "48823               White    Male             0             0              40   \n",
      "48824               White    Male             0             0              40   \n",
      "48825               White    Male             0             0              32   \n",
      "48826               White  Female             0             0              40   \n",
      "48827               White  Female             0             0              32   \n",
      "48828               Black  Female             0             0              40   \n",
      "48829               White    Male             0             0              36   \n",
      "48830               White    Male             0             0              40   \n",
      "48831               White    Male             0             0              40   \n",
      "48832               White    Male             0             0              48   \n",
      "48833               White    Male             0             0              40   \n",
      "48834               White  Female             0             0              40   \n",
      "48835               White    Male             0             0              40   \n",
      "48836               White    Male             0             0              40   \n",
      "48837               White  Female             0             0              36   \n",
      "48838               Black    Male             0             0              40   \n",
      "48839               White    Male             0             0              50   \n",
      "48840  Asian-Pac-Islander    Male          5455             0              40   \n",
      "48841               White    Male             0             0              60   \n",
      "\n",
      "      native-country  income  income_new  \n",
      "0      United-States   <=50K           0  \n",
      "1      United-States   <=50K           0  \n",
      "2      United-States   <=50K           0  \n",
      "3      United-States   <=50K           0  \n",
      "4               Cuba   <=50K           0  \n",
      "5      United-States   <=50K           0  \n",
      "6            Jamaica   <=50K           0  \n",
      "7      United-States    >50K           1  \n",
      "8      United-States    >50K           1  \n",
      "9      United-States    >50K           1  \n",
      "10     United-States    >50K           1  \n",
      "11             India    >50K           1  \n",
      "12     United-States   <=50K           0  \n",
      "13     United-States   <=50K           0  \n",
      "14                 ?    >50K           1  \n",
      "15            Mexico   <=50K           0  \n",
      "16     United-States   <=50K           0  \n",
      "17     United-States   <=50K           0  \n",
      "18     United-States   <=50K           0  \n",
      "19     United-States    >50K           1  \n",
      "20     United-States    >50K           1  \n",
      "21     United-States   <=50K           0  \n",
      "22     United-States   <=50K           0  \n",
      "23     United-States   <=50K           0  \n",
      "24     United-States   <=50K           0  \n",
      "25     United-States    >50K           1  \n",
      "26     United-States   <=50K           0  \n",
      "27             South    >50K           1  \n",
      "28     United-States   <=50K           0  \n",
      "29     United-States   <=50K           0  \n",
      "...              ...     ...         ...  \n",
      "48812  United-States  <=50K.           0  \n",
      "48813  United-States   >50K.           1  \n",
      "48814  United-States  <=50K.           0  \n",
      "48815  United-States   >50K.           1  \n",
      "48816  United-States   >50K.           1  \n",
      "48817  United-States  <=50K.           0  \n",
      "48818  United-States  <=50K.           0  \n",
      "48819  United-States  <=50K.           0  \n",
      "48820  United-States  <=50K.           0  \n",
      "48821  United-States  <=50K.           0  \n",
      "48822  United-States   >50K.           1  \n",
      "48823  United-States  <=50K.           0  \n",
      "48824  United-States  <=50K.           0  \n",
      "48825  United-States  <=50K.           0  \n",
      "48826              ?   >50K.           1  \n",
      "48827  United-States  <=50K.           0  \n",
      "48828  United-States  <=50K.           0  \n",
      "48829  United-States  <=50K.           0  \n",
      "48830  United-States  <=50K.           0  \n",
      "48831  United-States  <=50K.           0  \n",
      "48832  United-States  <=50K.           0  \n",
      "48833  United-States  <=50K.           0  \n",
      "48834  United-States  <=50K.           0  \n",
      "48835  United-States  <=50K.           0  \n",
      "48836  United-States  <=50K.           0  \n",
      "48837  United-States  <=50K.           0  \n",
      "48838  United-States  <=50K.           0  \n",
      "48839  United-States  <=50K.           0  \n",
      "48840  United-States  <=50K.           0  \n",
      "48841  United-States   >50K.           1  \n",
      "\n",
      "[48842 rows x 16 columns]\n"
     ]
    }
   ],
   "source": [
    "print df"
   ]
  },
  {
   "cell_type": "code",
   "execution_count": 34,
   "metadata": {},
   "outputs": [
    {
     "data": {
      "text/plain": [
       "0    37155\n",
       "1    11687\n",
       "Name: income_new, dtype: int64"
      ]
     },
     "execution_count": 34,
     "metadata": {},
     "output_type": "execute_result"
    }
   ],
   "source": [
    "df.income_new.value_counts()"
   ]
  },
  {
   "cell_type": "code",
   "execution_count": 41,
   "metadata": {
    "collapsed": true
   },
   "outputs": [],
   "source": [
    "import seaborn as sns"
   ]
  },
  {
   "cell_type": "code",
   "execution_count": 47,
   "metadata": {},
   "outputs": [
    {
     "data": {
      "text/plain": [
       "<matplotlib.axes._subplots.AxesSubplot at 0x117752c50>"
      ]
     },
     "execution_count": 47,
     "metadata": {},
     "output_type": "execute_result"
    },
    {
     "data": {
      "image/png": "[encoded data removed]",
      "text/plain": [
       "<matplotlib.figure.Figure at 0x11ac55b50>"
      ]
     },
     "metadata": {},
     "output_type": "display_data"
    }
   ],
   "source": [
    "%matplotlib inline\n",
    "sns.boxplot(x=\"income\", y=\"age\", data = df)"
   ]
  },
  {
   "cell_type": "code",
   "execution_count": null,
   "metadata": {
    "collapsed": true
   },
   "outputs": [],
   "source": []
  }
 ],
 "metadata": {
  "kernelspec": {
   "display_name": "Python 2",
   "language": "python",
   "name": "python2"
  },
  "language_info": {
   "codemirror_mode": {
    "name": "ipython",
    "version": 2
   },
   "file_extension": ".py",
   "mimetype": "text/x-python",
   "name": "python",
   "nbconvert_exporter": "python",
   "pygments_lexer": "ipython2",
   "version": "2.7.13"
  }
 },
 "nbformat": 4,
 "nbformat_minor": 2
}
